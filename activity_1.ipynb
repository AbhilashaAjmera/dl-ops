{
  "nbformat": 4,
  "nbformat_minor": 0,
  "metadata": {
    "colab": {
      "provenance": [],
      "authorship_tag": "ABX9TyNm1WuAwerRKJJx5wX4JJNk",
      "include_colab_link": true
    },
    "kernelspec": {
      "name": "python3",
      "display_name": "Python 3"
    },
    "language_info": {
      "name": "python"
    }
  },
  "cells": [
    {
      "cell_type": "markdown",
      "metadata": {
        "id": "view-in-github",
        "colab_type": "text"
      },
      "source": [
        "<a href=\"https://colab.research.google.com/github/AbhilashaAjmera/dl-ops/blob/main/activity_1.ipynb\" target=\"_parent\"><img src=\"https://colab.research.google.com/assets/colab-badge.svg\" alt=\"Open In Colab\"/></a>"
      ]
    },
    {
      "cell_type": "code",
      "source": [
        "import numpy as np\n",
        "import matplotlib.pyplot as plt\n",
        "\n",
        "# Sigmoid function\n",
        "def sigmoid(x):\n",
        "    return 1 / (1 + np.exp(-x))\n",
        "\n",
        "# ReLU function\n",
        "def relu(x):\n",
        "    return np.maximum(0, x)\n",
        "\n",
        "# Leaky ReLU function\n",
        "def leaky_relu(x, alpha=0.01):\n",
        "    return np.where(x >= 0, x, alpha * x)\n",
        "\n",
        "# Tanh function\n",
        "def tanh(x):\n",
        "    return np.tanh(x)\n",
        "\n",
        "# Generate x values\n",
        "x = np.linspace(-5, 5, 100)\n",
        "\n",
        "# Generate y values for each activation function\n",
        "y_sigmoid = sigmoid(x)\n",
        "y_relu = relu(x)\n",
        "y_leaky_relu = leaky_relu(x)\n",
        "y_tanh = tanh(x)\n",
        "\n",
        "# Plotting the graphs\n",
        "plt.figure(figsize=(10, 6))\n",
        "\n",
        "plt.subplot(2, 2, 1)\n",
        "plt.plot(x, y_sigmoid, label='Sigmoid')\n",
        "plt.title('Sigmoid Activation Function')\n",
        "plt.xlabel('Input')\n",
        "plt.ylabel('Output')\n",
        "plt.legend()\n",
        "\n",
        "plt.subplot(2, 2, 2)\n",
        "plt.plot(x, y_relu, label='ReLU', color='orange')\n",
        "plt.title('ReLU Activation Function')\n",
        "plt.xlabel('Input')\n",
        "plt.ylabel('Output')\n",
        "plt.legend()\n",
        "\n",
        "plt.subplot(2, 2, 3)\n",
        "plt.plot(x, y_leaky_relu, label='Leaky ReLU', color='green')\n",
        "plt.title('Leaky ReLU Activation Function')\n",
        "plt.xlabel('Input')\n",
        "plt.ylabel('Output')\n",
        "plt.legend()\n",
        "\n",
        "plt.subplot(2, 2, 4)\n",
        "plt.plot(x, y_tanh, label='Tanh', color='red')\n",
        "plt.title('Tanh Activation Function')\n",
        "plt.xlabel('Input')\n",
        "plt.ylabel('Output')\n",
        "plt.legend()\n",
        "\n",
        "plt.tight_layout()\n",
        "plt.show()"
      ],
      "metadata": {
        "id": "8Ht88YPUj90w"
      },
      "execution_count": null,
      "outputs": []
    }
  ]
}